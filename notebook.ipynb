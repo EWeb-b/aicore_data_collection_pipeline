{
 "cells": [
  {
   "cell_type": "code",
   "execution_count": 19,
   "metadata": {},
   "outputs": [
    {
     "name": "stdout",
     "output_type": "stream",
     "text": [
      "<selenium.webdriver.chrome.webdriver.WebDriver (session=\"647af352397433c72025da4ca8c9df56\")>\n",
      "test!\n",
      "['https://www.metacritic.com/movie/mr-bachmann-and-his-class', 'https://www.metacritic.com/movie/the-worst-person-in-the-world', 'https://www.metacritic.com/movie/hit-the-road', 'https://www.metacritic.com/movie/who-we-are-a-chronicle-of-racism-in-america', 'https://www.metacritic.com/movie/great-freedom', 'https://www.metacritic.com/movie/decision-to-leave', 'https://www.metacritic.com/movie/aftershock-2022', 'https://www.metacritic.com/movie/a-night-of-knowing-nothing', 'https://www.metacritic.com/movie/in-front-of-your-face', 'https://www.metacritic.com/movie/playground', 'https://www.metacritic.com/movie/happening', 'https://www.metacritic.com/movie/moonage-daydream', 'https://www.metacritic.com/movie/fire-of-love', 'https://www.metacritic.com/movie/the-fallout', 'https://www.metacritic.com/movie/rrr', 'https://www.metacritic.com/movie/lingui', 'https://www.metacritic.com/movie/the-girl-and-the-spider', 'https://www.metacritic.com/movie/turning-red-2022', 'https://www.metacritic.com/movie/belle-2021', 'https://www.metacritic.com/movie/the-janes', 'https://www.metacritic.com/movie/neptune-frost', 'https://www.metacritic.com/movie/vortex', 'https://www.metacritic.com/movie/poly-styrene-i-am-a-cliche', 'https://www.metacritic.com/movie/navalny', 'https://www.metacritic.com/movie/a-hero', 'https://www.metacritic.com/movie/the-northman', 'https://www.metacritic.com/movie/hold-your-fire', 'https://www.metacritic.com/movie/this-much-i-know-to-be-true', 'https://www.metacritic.com/movie/everything-everywhere-all-at-once', 'https://www.metacritic.com/movie/marcel-the-shell-with-shoes-on', 'https://www.metacritic.com/movie/benediction', 'https://www.metacritic.com/movie/lost-illusions', 'https://www.metacritic.com/movie/nitram', 'https://www.metacritic.com/movie/flux-gourmet', 'https://www.metacritic.com/movie/clara-sola', 'https://www.metacritic.com/movie/dinner-in-america', 'https://www.metacritic.com/movie/mad-god', 'https://www.metacritic.com/movie/cow', 'https://www.metacritic.com/movie/the-white-fortress', 'https://www.metacritic.com/movie/costa-brava-lebanon', 'https://www.metacritic.com/movie/you-wont-be-alone', 'https://www.metacritic.com/movie/aheds-knee', 'https://www.metacritic.com/movie/apollo-10', 'https://www.metacritic.com/movie/lunana-a-yak-in-the-classroom', 'https://www.metacritic.com/movie/after-yang', 'https://www.metacritic.com/movie/kimi', 'https://www.metacritic.com/movie/bitterbrush', 'https://www.metacritic.com/movie/the-innocents-2022', 'https://www.metacritic.com/movie/x-2022', 'https://www.metacritic.com/movie/top-gun-maverick', 'https://www.metacritic.com/movie/il-buco', 'https://www.metacritic.com/movie/servants', 'https://www.metacritic.com/movie/good-luck-to-you-leo-grande', 'https://www.metacritic.com/movie/a-love-song', 'https://www.metacritic.com/movie/jazz-fest-a-new-orleans-story', 'https://www.metacritic.com/movie/were-all-going-to-the-worlds-fair', 'https://www.metacritic.com/movie/a-man-of-integrity', 'https://www.metacritic.com/movie/we-met-in-virtual-reality', 'https://www.metacritic.com/movie/olga', 'https://www.metacritic.com/movie/islands', 'https://www.metacritic.com/movie/dear-mr-brody', 'https://www.metacritic.com/movie/nope', 'https://www.metacritic.com/movie/introduction', 'https://www.metacritic.com/movie/we-feed-people', 'https://www.metacritic.com/movie/apples', 'https://www.metacritic.com/movie/brighton-4th', 'https://www.metacritic.com/movie/murina', 'https://www.metacritic.com/movie/official-competition', 'https://www.metacritic.com/movie/speak-no-evil', 'https://www.metacritic.com/movie/paris-13th-district', 'https://www.metacritic.com/movie/pleasure', 'https://www.metacritic.com/movie/emily-the-criminal', 'https://www.metacritic.com/movie/the-automat', 'https://www.metacritic.com/movie/a-chiara', 'https://www.metacritic.com/movie/tony-hawk-until-the-wheels-fall-off', 'https://www.metacritic.com/movie/bobs-burgers-the-movie', 'https://www.metacritic.com/movie/strawberry-mansion', 'https://www.metacritic.com/movie/on-the-count-of-three', 'https://www.metacritic.com/movie/the-sea-beast', 'https://www.metacritic.com/movie/gagarine', 'https://www.metacritic.com/movie/jackass-forever', 'https://www.metacritic.com/movie/ali-ava', 'https://www.metacritic.com/movie/beba', 'https://www.metacritic.com/movie/hatching', 'https://www.metacritic.com/movie/memory-box', 'https://www.metacritic.com/movie/armageddon-time', 'https://www.metacritic.com/movie/you-are-not-my-mother', 'https://www.metacritic.com/movie/funny-pages', 'https://www.metacritic.com/movie/the-tale-of-king-crab', 'https://www.metacritic.com/movie/she-will', 'https://www.metacritic.com/movie/futura', 'https://www.metacritic.com/movie/lucy-and-desi', 'https://www.metacritic.com/movie/montana-story', 'https://www.metacritic.com/movie/emergency', 'https://www.metacritic.com/movie/gabby-giffords-wont-back-down', 'https://www.metacritic.com/movie/pirates-2021', 'https://www.metacritic.com/movie/fire-island', 'https://www.metacritic.com/movie/anais-in-love', 'https://www.metacritic.com/movie/the-long-walk', 'https://www.metacritic.com/movie/7-days']\n",
      "container!\n",
      "<selenium.webdriver.remote.webelement.WebElement (session=\"647af352397433c72025da4ca8c9df56\", element=\"a604ac0e-1cb5-47af-8cff-99412fb62e8f\")>\n"
     ]
    }
   ],
   "source": [
    "from selenium import webdriver\n",
    "from selenium.webdriver.common.by import By\n",
    "import time\n",
    "from time import sleep\n",
    "from selenium.webdriver.support.ui import WebDriverWait\n",
    "from selenium.webdriver.support import expected_conditions as EC\n",
    "from selenium.webdriver.common.by import By\n",
    "from selenium.common.exceptions import NoSuchElementException, TimeoutException\n",
    "\n",
    "\n",
    "driver = webdriver.Chrome()\n",
    "URL = \"https://www.metacritic.com/browse/movies/score/metascore/year/filtered\"\n",
    "driver.get(URL)\n",
    "\n",
    "delay = 10\n",
    "\n",
    "print (driver)\n",
    "\n",
    "time.sleep(1)\n",
    "\n",
    "try: # if the reject cookies button is there then click it\n",
    "    reject_cookies_btn = WebDriverWait(driver, delay).until(EC.presence_of_element_located((By.XPATH, '//*[@id=\"onetrust-reject-all-handler\"]')))\n",
    "    reject_cookies_btn.click()\n",
    "\n",
    "except NoSuchElementException: # open the cookies settings, then click reject\n",
    "    cookies_settings_btn = driver.find_element(by=By.XPATH, value='//*[@id=\"ot-sdk-btn\"]')\n",
    "    cookies_settings_btn.click()\n",
    "    reject_cookies_btn = WebDriverWait(driver, delay).until(EC.presence_of_element_located((By.XPATH, '//*[@id=\"onetrust-pc-sdk\"]/div[3]/div[1]/button[1]')))\n",
    "    reject_cookies_btn.click()\n",
    "\n",
    "except TimeoutException:\n",
    "    print (\"Loading cookies took too much time!\")\n",
    "\n",
    "except:\n",
    "    pass\n",
    "\n",
    "\n",
    "movies = driver.find_elements(By.XPATH, '//div[@class=\"title_bump\"]//a[@class=\"title\"]')\n",
    "links = [movie.get_attribute('href') for movie in movies]\n",
    "print(\"test!\")\n",
    "print(links)\n"
   ]
  },
  {
   "cell_type": "code",
   "execution_count": null,
   "metadata": {},
   "outputs": [],
   "source": []
  },
  {
   "cell_type": "code",
   "execution_count": null,
   "metadata": {},
   "outputs": [],
   "source": []
  }
 ],
 "metadata": {
  "kernelspec": {
   "display_name": "Python 3.10.4 ('data_pipe_env')",
   "language": "python",
   "name": "python3"
  },
  "language_info": {
   "codemirror_mode": {
    "name": "ipython",
    "version": 3
   },
   "file_extension": ".py",
   "mimetype": "text/x-python",
   "name": "python",
   "nbconvert_exporter": "python",
   "pygments_lexer": "ipython3",
   "version": "3.10.4"
  },
  "orig_nbformat": 4,
  "vscode": {
   "interpreter": {
    "hash": "4fd9b74ea3caac643bfeed5a6319710d7c0ce4bec5b0ad26d5ecc57ddb742f88"
   }
  }
 },
 "nbformat": 4,
 "nbformat_minor": 2
}
